{
 "cells": [
  {
   "cell_type": "code",
   "execution_count": 50,
   "metadata": {},
   "outputs": [],
   "source": [
    "import numpy as np\n",
    "from numpy import linalg as la"
   ]
  },
  {
   "cell_type": "markdown",
   "metadata": {},
   "source": [
    "The following is the system of ODEs that we will use:\n",
    "<br>\n",
    "$\\frac{dS}{Dt} = -\\frac{S}{N}[\\beta_pI_p + \\beta_aI_a + \\beta_sI_s]$\n",
    "<br>\n",
    "$\\frac{dE}{Dt} = \\frac{S}{N}[\\beta_pI_p + \\beta_aI_a + \\beta_sI_s] - \\frac{1}{\\tau_E}$\n",
    "<br>\n",
    "$\\frac{dI_p}{dt} = \\frac{1}{\\tau_E}E - \\frac{1}{\\tau_P}I_p$\n",
    "<br>\n",
    "$\\frac{dI_a}{dt} = \\frac{f}{\\tau_P}I_p - \\frac{1}{\\tau_I}I_a$\n",
    "<br>\n",
    "$\\frac{dI_s}{dt} = \\frac{1 - f}{\\tau_P}I_p - \\frac{1 - d}{\\tau_I}I_s - \\frac{d}{\\tau_D}I_s$\n",
    "<br>\n",
    "$\\frac{dR}{dt} = \\frac{1}{\\tau_I}I_a + \\frac{1 - d}{\\tau_I}I_s$"
   ]
  },
  {
   "cell_type": "markdown",
   "metadata": {},
   "source": [
    "Where: \n",
    "<br>\n",
    "$S$: Susceptible Population\n",
    "<br>\n",
    "$N$: Total Population\n",
    "<br>\n",
    "$E$: Exposed Population\n",
    "<br>\n",
    "$I_p$: Infected Population (pre-symptomatic)\n",
    "<br>\n",
    "$I_a$: Infected Population (asymptomatic)\n",
    "<br>\n",
    "$I_s$: Infected Population (symptomatic)\n",
    "<br>\n",
    "$R$: Recovered Population\n",
    "<br><br>\n",
    "$\\beta_p$: Infection Rate (pre-symptomatic)\n",
    "<br>\n",
    "$\\beta_a$: Infection Rate (asymptomatic)\n",
    "<br>\n",
    "$\\beta_s$: Infection Rate (symptomatic)\n",
    "<br><br>\n",
    "$\\tau_E$: Length of time exposed\n",
    "<br>\n",
    "$\\tau_P$: Length of time pre-infectious\n",
    "<br>\n",
    "$\\tau_I$: Length of time infectious\n",
    "<br>\n",
    "$\\tau_D$: Length of time while patient is dying (...can't think of a less morbid way to describe...)\n",
    "<br><br>\n",
    "$f$: Proportion of infected people who are asymptomatic\n",
    "<br>\n",
    "$d$: Proportion of infected people who die"
   ]
  },
  {
   "cell_type": "code",
   "execution_count": 51,
   "metadata": {},
   "outputs": [],
   "source": [
    "V = np.array([[1/tauE,0,0,0],[-1/tauE,1/tauP,0,0],[0,-f/tauP,1/tauI,0],[0,-(1-f)/tauP,0,(1-d)/tauI + d/tauD]])"
   ]
  },
  {
   "cell_type": "code",
   "execution_count": 52,
   "metadata": {},
   "outputs": [],
   "source": [
    "F = np.array([[0,beta,beta,beta],[0,0,0,0],[0,0,0,0],[0,0,0,0]])"
   ]
  },
  {
   "cell_type": "code",
   "execution_count": 53,
   "metadata": {},
   "outputs": [
    {
     "data": {
      "text/plain": [
       "array([[ 0.28571429,  0.        ,  0.        ,  0.        ],\n",
       "       [-0.28571429,  0.66666667,  0.        ,  0.        ],\n",
       "       [ 0.        , -0.2       ,  0.28571429,  0.        ],\n",
       "       [ 0.        , -0.46666667,  0.        ,  0.275     ]])"
      ]
     },
     "execution_count": 53,
     "metadata": {},
     "output_type": "execute_result"
    }
   ],
   "source": [
    "V"
   ]
  },
  {
   "cell_type": "code",
   "execution_count": 58,
   "metadata": {},
   "outputs": [
    {
     "data": {
      "text/plain": [
       "array([[0., 0., 0., 0.],\n",
       "       [0., 0., 0., 0.],\n",
       "       [0., 0., 0., 0.],\n",
       "       [0., 0., 0., 0.]])"
      ]
     },
     "execution_count": 58,
     "metadata": {},
     "output_type": "execute_result"
    }
   ],
   "source": [
    "F*la.inv(V)"
   ]
  },
  {
   "cell_type": "code",
   "execution_count": 54,
   "metadata": {},
   "outputs": [
    {
     "data": {
      "text/plain": [
       "array([[0. , 0.8, 0.8, 0.8],\n",
       "       [0. , 0. , 0. , 0. ],\n",
       "       [0. , 0. , 0. , 0. ],\n",
       "       [0. , 0. , 0. , 0. ]])"
      ]
     },
     "execution_count": 54,
     "metadata": {},
     "output_type": "execute_result"
    }
   ],
   "source": [
    "F"
   ]
  },
  {
   "cell_type": "markdown",
   "metadata": {},
   "source": [
    "Reproductive Rate: $R_0 = FV^-1$"
   ]
  },
  {
   "cell_type": "code",
   "execution_count": 56,
   "metadata": {},
   "outputs": [
    {
     "ename": "ValueError",
     "evalue": "could not broadcast input array from shape (4,4) into shape (4)",
     "output_type": "error",
     "traceback": [
      "\u001b[1;31m---------------------------------------------------------------------------\u001b[0m",
      "\u001b[1;31mValueError\u001b[0m                                Traceback (most recent call last)",
      "\u001b[1;32m<ipython-input-56-164e4d67f8e3>\u001b[0m in \u001b[0;36m<module>\u001b[1;34m\u001b[0m\n\u001b[1;32m----> 1\u001b[1;33m \u001b[0mR_0\u001b[0m \u001b[1;33m=\u001b[0m \u001b[0mnp\u001b[0m\u001b[1;33m.\u001b[0m\u001b[0mmax\u001b[0m\u001b[1;33m(\u001b[0m\u001b[0mla\u001b[0m\u001b[1;33m.\u001b[0m\u001b[0meig\u001b[0m\u001b[1;33m(\u001b[0m\u001b[0mF\u001b[0m\u001b[1;33m*\u001b[0m\u001b[0mla\u001b[0m\u001b[1;33m.\u001b[0m\u001b[0minv\u001b[0m\u001b[1;33m(\u001b[0m\u001b[0mV\u001b[0m\u001b[1;33m)\u001b[0m\u001b[1;33m)\u001b[0m\u001b[1;33m)\u001b[0m\u001b[1;33m\u001b[0m\u001b[1;33m\u001b[0m\u001b[0m\n\u001b[0m",
      "\u001b[1;32m<__array_function__ internals>\u001b[0m in \u001b[0;36mamax\u001b[1;34m(*args, **kwargs)\u001b[0m\n",
      "\u001b[1;32m~\\anaconda3\\lib\\site-packages\\numpy\\core\\fromnumeric.py\u001b[0m in \u001b[0;36mamax\u001b[1;34m(a, axis, out, keepdims, initial, where)\u001b[0m\n\u001b[0;32m   2665\u001b[0m     \u001b[1;36m5\u001b[0m\u001b[1;33m\u001b[0m\u001b[1;33m\u001b[0m\u001b[0m\n\u001b[0;32m   2666\u001b[0m     \"\"\"\n\u001b[1;32m-> 2667\u001b[1;33m     return _wrapreduction(a, np.maximum, 'max', axis, None, out,\n\u001b[0m\u001b[0;32m   2668\u001b[0m                           keepdims=keepdims, initial=initial, where=where)\n\u001b[0;32m   2669\u001b[0m \u001b[1;33m\u001b[0m\u001b[0m\n",
      "\u001b[1;32m~\\anaconda3\\lib\\site-packages\\numpy\\core\\fromnumeric.py\u001b[0m in \u001b[0;36m_wrapreduction\u001b[1;34m(obj, ufunc, method, axis, dtype, out, **kwargs)\u001b[0m\n\u001b[0;32m     88\u001b[0m                 \u001b[1;32mreturn\u001b[0m \u001b[0mreduction\u001b[0m\u001b[1;33m(\u001b[0m\u001b[0maxis\u001b[0m\u001b[1;33m=\u001b[0m\u001b[0maxis\u001b[0m\u001b[1;33m,\u001b[0m \u001b[0mout\u001b[0m\u001b[1;33m=\u001b[0m\u001b[0mout\u001b[0m\u001b[1;33m,\u001b[0m \u001b[1;33m**\u001b[0m\u001b[0mpasskwargs\u001b[0m\u001b[1;33m)\u001b[0m\u001b[1;33m\u001b[0m\u001b[1;33m\u001b[0m\u001b[0m\n\u001b[0;32m     89\u001b[0m \u001b[1;33m\u001b[0m\u001b[0m\n\u001b[1;32m---> 90\u001b[1;33m     \u001b[1;32mreturn\u001b[0m \u001b[0mufunc\u001b[0m\u001b[1;33m.\u001b[0m\u001b[0mreduce\u001b[0m\u001b[1;33m(\u001b[0m\u001b[0mobj\u001b[0m\u001b[1;33m,\u001b[0m \u001b[0maxis\u001b[0m\u001b[1;33m,\u001b[0m \u001b[0mdtype\u001b[0m\u001b[1;33m,\u001b[0m \u001b[0mout\u001b[0m\u001b[1;33m,\u001b[0m \u001b[1;33m**\u001b[0m\u001b[0mpasskwargs\u001b[0m\u001b[1;33m)\u001b[0m\u001b[1;33m\u001b[0m\u001b[1;33m\u001b[0m\u001b[0m\n\u001b[0m\u001b[0;32m     91\u001b[0m \u001b[1;33m\u001b[0m\u001b[0m\n\u001b[0;32m     92\u001b[0m \u001b[1;33m\u001b[0m\u001b[0m\n",
      "\u001b[1;31mValueError\u001b[0m: could not broadcast input array from shape (4,4) into shape (4)"
     ]
    }
   ],
   "source": [
    "R_0 = np.max(la.eig(F*la.inv(V)))"
   ]
  },
  {
   "cell_type": "code",
   "execution_count": 9,
   "metadata": {},
   "outputs": [],
   "source": [
    "def covid(y, t, betaP, betaA, betaS, tauE, tauP, tauI, tauD, f, d, N):\n",
    "    S, E, Ip, Ia, Is, R = y\n",
    "    dydt = [-(S/N)*(betaP*Ip + betaA*Ia + betaS*Is), (S/N)*(betaP*Ip + betaA*Ia + betaS*Is) - (1/tauE)*E, (1/tauE)*E - (1/tauP)*Ip, (f/tauP)*Ip - (1/tauI)*Ia, ((1-f)/tauP)*Ip - ((1-d)/tauI)*Is - (d/tauD)*Is, (1/tauI)*Ia + ((1-d)/tauI)*Is]\n",
    "    return dydt"
   ]
  },
  {
   "cell_type": "code",
   "execution_count": 16,
   "metadata": {},
   "outputs": [
    {
     "ename": "SyntaxError",
     "evalue": "cannot assign to function call (<ipython-input-16-978272396f59>, line 8)",
     "output_type": "error",
     "traceback": [
      "\u001b[1;36m  File \u001b[1;32m\"<ipython-input-16-978272396f59>\"\u001b[1;36m, line \u001b[1;32m8\u001b[0m\n\u001b[1;33m    F(1,[2,3,4]) = beta;\u001b[0m\n\u001b[1;37m    ^\u001b[0m\n\u001b[1;31mSyntaxError\u001b[0m\u001b[1;31m:\u001b[0m cannot assign to function call\n"
     ]
    }
   ],
   "source": [
    "def CalculateR_0(tauE,tauP,tauI,tauD,f,d,beta,N):\n",
    "##Function for calculating the basic reproductive rate for a given set of parameters##\n",
    "\n",
    "    V = zeros(4,4);\n",
    "    F = zeros(4,4);\n",
    "\n",
    "##Input non-zero entries of F##\n",
    "F(1,[2,3,4]) = beta;\n",
    "\n",
    "##Input non-zero entries of V##\n",
    "V(1,1) = 1/tauE;\n",
    "V(2,1) = -1/tauE;\n",
    "V(2,2) = 1/tauP;\n",
    "V(3,2) = -f/tauP;\n",
    "V(3,3) = 1/tauI;\n",
    "V(4,2) = -(1-f)/tauP;\n",
    "V(4,4) = (1-d)/tauI + d/tauD;\n",
    "\n",
    "y = max(eigs(F*inv(V)));\n",
    "\n",
    "end\n"
   ]
  },
  {
   "cell_type": "markdown",
   "metadata": {},
   "source": [
    "$S: x(1)$\n",
    "<br>\n",
    "$E: x(2)$\n",
    "<br>\n",
    "$I_p: x(3)$\n",
    "<br>\n",
    "$I_a: x(4)$\n",
    "<br>\n",
    "$I_s: x(5)$"
   ]
  },
  {
   "cell_type": "code",
   "execution_count": 59,
   "metadata": {},
   "outputs": [
    {
     "ename": "SyntaxError",
     "evalue": "cannot assign to function call (<ipython-input-59-fa941bd19e7f>, line 3)",
     "output_type": "error",
     "traceback": [
      "\u001b[1;36m  File \u001b[1;32m\"<ipython-input-59-fa941bd19e7f>\"\u001b[1;36m, line \u001b[1;32m3\u001b[0m\n\u001b[1;33m    y(1) = -beta(t,beta0,res)*x(1)*(x(3)+x(4)+x(5))/N;\u001b[0m\n\u001b[1;37m    ^\u001b[0m\n\u001b[1;31mSyntaxError\u001b[0m\u001b[1;31m:\u001b[0m cannot assign to function call\n"
     ]
    }
   ],
   "source": [
    "def SEIR(t,x,res,tauE,tauP,tauI,tauD,f,d,beta0,N):\n",
    "##Equations for SEIR model, with multiple infected classes##\n",
    "    y(1) = -beta(t,beta0,res)*x(1)*(x(3)+x(4)+x(5))/N;\n",
    "    y(2) = beta(t,beta0,res)*x(1)*(x(3)+x(4)+x(5))/N-1/tauE*x(2);\n",
    "    y(3) = 1/tauE*x(2) - 1/tauP*x(3);\n",
    "    y(4) = f/tauP*x(3) - 1/tauI*x(4);\n",
    "    y(5) = (1-f)/tauP*x(3) - (1-d)/tauI*x(5) - d/tauD*x(5);\n",
    "    y(6) = 1/tauI*x(4) + (1-d)/tauI*x(5);"
   ]
  },
  {
   "cell_type": "code",
   "execution_count": 10,
   "metadata": {},
   "outputs": [],
   "source": [
    "betaP = 0.8\n",
    "betaA = 0.8\n",
    "betaS = 0.8\n",
    "tauE = 3.5\n",
    "tauP = 1.5\n",
    "tauI = 3.5\n",
    "tauD = 14\n",
    "f = 0.3\n",
    "d = 0.05\n",
    "N = 4.9*10**6"
   ]
  },
  {
   "cell_type": "code",
   "execution_count": 61,
   "metadata": {},
   "outputs": [
    {
     "ename": "SyntaxError",
     "evalue": "unexpected EOF while parsing (<ipython-input-61-7525c0f91a12>, line 1)",
     "output_type": "error",
     "traceback": [
      "\u001b[1;36m  File \u001b[1;32m\"<ipython-input-61-7525c0f91a12>\"\u001b[1;36m, line \u001b[1;32m1\u001b[0m\n\u001b[1;33m    def SEIR_equations(t,x,res,tauE,tauP,tauI,tauD,f,d,beta0,N):\u001b[0m\n\u001b[1;37m                                                                ^\u001b[0m\n\u001b[1;31mSyntaxError\u001b[0m\u001b[1;31m:\u001b[0m unexpected EOF while parsing\n"
     ]
    }
   ],
   "source": [
    "def SEIR_equations(t,x,res,tauE,tauP,tauI,tauD,f,d,beta0,N):\n",
    "    "
   ]
  },
  {
   "cell_type": "code",
   "execution_count": 63,
   "metadata": {},
   "outputs": [],
   "source": [
    "def y1(beta,t,beat0,res,N):\n",
    "    -beta(t,beta0,res)*x(1)*(x(3)+x(4)+x(5))/N"
   ]
  },
  {
   "cell_type": "code",
   "execution_count": 64,
   "metadata": {},
   "outputs": [
    {
     "data": {
      "text/plain": [
       "<function __main__.y1(beta, t, beat0, res, N)>"
      ]
     },
     "execution_count": 64,
     "metadata": {},
     "output_type": "execute_result"
    }
   ],
   "source": [
    "y1(0.8,70,)"
   ]
  },
  {
   "cell_type": "code",
   "execution_count": 3,
   "metadata": {},
   "outputs": [],
   "source": [
    "def covid(y, t, betaP, betaA, betaS, tauE, tauP, tauI, tauD, f, d, N):\n",
    "    S, E, Ip, Ia, Is, R = y\n",
    "    dydt = [-(S/N)*(betaP*Ip + betaA*Ia + betaS*Is), (S/N)*(betaP*Ip + betaA*Ia + betaS*Is) - (1/tauE)*E, (1/tauE)*E - (1/tauP)*Ip, (f/tauP)*Ip - (1/tauI)*Ia, ((1-f)/tauP)*Ip - ((1-d)/tauI)*Is - (d/tauD)*Is, (1/tauI)*Ia + ((1-d)/tauI)*Is]\n",
    "    return dydt"
   ]
  },
  {
   "cell_type": "code",
   "execution_count": 65,
   "metadata": {},
   "outputs": [
    {
     "ename": "NameError",
     "evalue": "name 'res' is not defined",
     "output_type": "error",
     "traceback": [
      "\u001b[1;31m---------------------------------------------------------------------------\u001b[0m",
      "\u001b[1;31mNameError\u001b[0m                                 Traceback (most recent call last)",
      "\u001b[1;32m<ipython-input-65-c08785e04264>\u001b[0m in \u001b[0;36m<module>\u001b[1;34m\u001b[0m\n\u001b[1;32m----> 1\u001b[1;33m \u001b[0mres\u001b[0m\u001b[1;33m\u001b[0m\u001b[1;33m\u001b[0m\u001b[0m\n\u001b[0m",
      "\u001b[1;31mNameError\u001b[0m: name 'res' is not defined"
     ]
    }
   ],
   "source": [
    "res"
   ]
  },
  {
   "cell_type": "code",
   "execution_count": 2,
   "metadata": {},
   "outputs": [
    {
     "ename": "TypeError",
     "evalue": "unsupported operand type(s) for ^: 'float' and 'int'",
     "output_type": "error",
     "traceback": [
      "\u001b[1;31m---------------------------------------------------------------------------\u001b[0m",
      "\u001b[1;31mTypeError\u001b[0m                                 Traceback (most recent call last)",
      "\u001b[1;32m<ipython-input-2-2df17f4b8fd4>\u001b[0m in \u001b[0;36m<module>\u001b[1;34m\u001b[0m\n\u001b[0;32m      7\u001b[0m \u001b[0md\u001b[0m \u001b[1;33m=\u001b[0m \u001b[1;36m0.05\u001b[0m\u001b[1;33m;\u001b[0m\u001b[1;33m\u001b[0m\u001b[1;33m\u001b[0m\u001b[0m\n\u001b[0;32m      8\u001b[0m \u001b[0mbeta\u001b[0m \u001b[1;33m=\u001b[0m \u001b[1;36m0.8\u001b[0m\u001b[1;33m;\u001b[0m\u001b[1;33m\u001b[0m\u001b[1;33m\u001b[0m\u001b[0m\n\u001b[1;32m----> 9\u001b[1;33m \u001b[0mN\u001b[0m \u001b[1;33m=\u001b[0m \u001b[1;36m4.9\u001b[0m\u001b[1;33m*\u001b[0m\u001b[1;36m10\u001b[0m\u001b[1;33m^\u001b[0m\u001b[1;36m6\u001b[0m\u001b[1;33m;\u001b[0m\u001b[1;33m\u001b[0m\u001b[1;33m\u001b[0m\u001b[0m\n\u001b[0m\u001b[0;32m     10\u001b[0m \u001b[0mt_offset\u001b[0m \u001b[1;33m=\u001b[0m \u001b[1;36m7\u001b[0m\u001b[1;33m;\u001b[0m\u001b[1;33m\u001b[0m\u001b[1;33m\u001b[0m\u001b[0m\n\u001b[0;32m     11\u001b[0m \u001b[1;31m#much better fit with t_offset = 9\u001b[0m\u001b[1;33m\u001b[0m\u001b[1;33m\u001b[0m\u001b[1;33m\u001b[0m\u001b[0m\n",
      "\u001b[1;31mTypeError\u001b[0m: unsupported operand type(s) for ^: 'float' and 'int'"
     ]
    }
   ],
   "source": [
    "#model parameters\n",
    "tauE = 3.5; \n",
    "tauP = 1.5;\n",
    "tauI = 3.5;\n",
    "tauD = 14;\n",
    "f = 0.3;\n",
    "d = 0.05;\n",
    "beta = 0.8;\n",
    "N = 4.9*10^6;\n",
    "t_offset = 7;\n",
    "#much better fit with t_offset = 9"
   ]
  }
 ],
 "metadata": {
  "kernelspec": {
   "display_name": "Python 3",
   "language": "python",
   "name": "python3"
  },
  "language_info": {
   "codemirror_mode": {
    "name": "ipython",
    "version": 3
   },
   "file_extension": ".py",
   "mimetype": "text/x-python",
   "name": "python",
   "nbconvert_exporter": "python",
   "pygments_lexer": "ipython3",
   "version": "3.8.3"
  }
 },
 "nbformat": 4,
 "nbformat_minor": 4
}
