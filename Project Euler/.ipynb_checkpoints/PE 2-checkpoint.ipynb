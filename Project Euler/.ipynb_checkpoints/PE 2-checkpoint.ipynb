{
 "cells": [
  {
   "cell_type": "code",
   "execution_count": 14,
   "metadata": {},
   "outputs": [],
   "source": [
    "def Fibonacci(n):\n",
    "    i = 1\n",
    "    j = 2\n",
    "    k = i + j\n",
    "    \n",
    "    sum = j\n",
    "    \n",
    "    while k <= n:\n",
    "        if k % 2 == 0:\n",
    "            sum+=k\n",
    "        else: \n",
    "            sum+=0\n",
    "            \n",
    "        i = j\n",
    "        j = k\n",
    "        k = i + j\n",
    "        \n",
    "    return sum    "
   ]
  },
  {
   "cell_type": "code",
   "execution_count": 15,
   "metadata": {},
   "outputs": [
    {
     "data": {
      "text/plain": [
       "4613732"
      ]
     },
     "execution_count": 15,
     "metadata": {},
     "output_type": "execute_result"
    }
   ],
   "source": [
    "Fibonacci(4000000)"
   ]
  }
 ],
 "metadata": {
  "kernelspec": {
   "display_name": "Python 3",
   "language": "python",
   "name": "python3"
  },
  "language_info": {
   "codemirror_mode": {
    "name": "ipython",
    "version": 3
   },
   "file_extension": ".py",
   "mimetype": "text/x-python",
   "name": "python",
   "nbconvert_exporter": "python",
   "pygments_lexer": "ipython3",
   "version": "3.8.3"
  }
 },
 "nbformat": 4,
 "nbformat_minor": 4
}
