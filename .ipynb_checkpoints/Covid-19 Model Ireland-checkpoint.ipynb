{
 "cells": [
  {
   "cell_type": "code",
   "execution_count": 62,
   "metadata": {},
   "outputs": [],
   "source": [
    "import numpy as np\n",
    "from numpy import linalg as la\n",
    "from scipy.integrate import odeint\n",
    "import matplotlib.pyplot as plt"
   ]
  },
  {
   "cell_type": "markdown",
   "metadata": {},
   "source": [
    "The following is the system of ODEs that we will use:\n",
    "<br>\n",
    "$\\frac{dS}{Dt} = -\\frac{S}{N}[\\beta_pI_p + \\beta_aI_a + \\beta_sI_s]$\n",
    "<br>\n",
    "$\\frac{dE}{Dt} = \\frac{S}{N}[\\beta_pI_p + \\beta_aI_a + \\beta_sI_s] - \\frac{1}{\\tau_E}$\n",
    "<br>\n",
    "$\\frac{dI_p}{dt} = \\frac{1}{\\tau_E}E - \\frac{1}{\\tau_P}I_p$\n",
    "<br>\n",
    "$\\frac{dI_a}{dt} = \\frac{f}{\\tau_P}I_p - \\frac{1}{\\tau_I}I_a$\n",
    "<br>\n",
    "$\\frac{dI_s}{dt} = \\frac{1 - f}{\\tau_P}I_p - \\frac{1 - d}{\\tau_I}I_s - \\frac{d}{\\tau_D}I_s$\n",
    "<br>\n",
    "$\\frac{dR}{dt} = \\frac{1}{\\tau_I}I_a + \\frac{1 - d}{\\tau_I}I_s$"
   ]
  },
  {
   "cell_type": "markdown",
   "metadata": {},
   "source": [
    "Where: \n",
    "<br>\n",
    "$S$: Susceptible Population\n",
    "<br>\n",
    "$N$: Total Population\n",
    "<br>\n",
    "$E$: Exposed Population\n",
    "<br>\n",
    "$I_p$: Infected Population (pre-symptomatic)\n",
    "<br>\n",
    "$I_a$: Infected Population (asymptomatic)\n",
    "<br>\n",
    "$I_s$: Infected Population (symptomatic)\n",
    "<br>\n",
    "$R$: Recovered Population\n",
    "<br><br>\n",
    "$\\beta_p$: Infection Rate (pre-symptomatic)\n",
    "<br>\n",
    "$\\beta_a$: Infection Rate (asymptomatic)\n",
    "<br>\n",
    "$\\beta_s$: Infection Rate (symptomatic)\n",
    "<br><br>\n",
    "$\\tau_E$: Length of time exposed\n",
    "<br>\n",
    "$\\tau_P$: Length of time pre-infectious\n",
    "<br>\n",
    "$\\tau_I$: Length of time infectious\n",
    "<br>\n",
    "$\\tau_D$: Length of time while patient is dying (...can't think of a less morbid way to describe...)\n",
    "<br><br>\n",
    "$f$: Proportion of infected people who are asymptomatic\n",
    "<br>\n",
    "$d$: Proportion of infected people who die"
   ]
  },
  {
   "cell_type": "markdown",
   "metadata": {},
   "source": [
    "Estimate values for parameters as below;"
   ]
  },
  {
   "cell_type": "code",
   "execution_count": 63,
   "metadata": {},
   "outputs": [],
   "source": [
    "betaP = 0.8\n",
    "betaA = 0.8\n",
    "betaS = 0.8\n",
    "tauE = 3.5\n",
    "tauP = 1.5\n",
    "tauI = 3.5\n",
    "tauD = 14\n",
    "f = 0.3\n",
    "d = 0.05\n",
    "N = 4.9*10**6"
   ]
  },
  {
   "cell_type": "code",
   "execution_count": 64,
   "metadata": {},
   "outputs": [],
   "source": [
    "V = np.array([[1/tauE,0,0,0],[-1/tauE,1/tauP,0,0],[0,-f/tauP,1/tauI,0],[0,-(1-f)/tauP,0,(1-d)/tauI + d/tauD]])"
   ]
  },
  {
   "cell_type": "code",
   "execution_count": 65,
   "metadata": {},
   "outputs": [],
   "source": [
    "F = np.array([[0,betaP,betaA,betaA],[0,0,0,0],[0,0,0,0],[0,0,0,0]])"
   ]
  },
  {
   "cell_type": "markdown",
   "metadata": {},
   "source": [
    "NOTE: Each cell in $F$ is an appearance of a new infection and each value in $V$ is transmission from one infected class($E,I_p.I_a.I_s$) to another.\n",
    "<br>\n",
    "$G$ is the next generational matrix "
   ]
  },
  {
   "cell_type": "code",
   "execution_count": 66,
   "metadata": {},
   "outputs": [],
   "source": [
    "G = np.matmul(F, la.inv(V))"
   ]
  },
  {
   "cell_type": "markdown",
   "metadata": {},
   "source": [
    "Basic Reproductive Rate: $R_0$ is the dominant eigenvalue of $G = FV^-1$"
   ]
  },
  {
   "cell_type": "code",
   "execution_count": 67,
   "metadata": {},
   "outputs": [],
   "source": [
    "R_0 = np.max(la.eig(G)[:1])"
   ]
  },
  {
   "cell_type": "code",
   "execution_count": 68,
   "metadata": {},
   "outputs": [
    {
     "data": {
      "text/plain": [
       "4.076363636363636"
      ]
     },
     "execution_count": 68,
     "metadata": {},
     "output_type": "execute_result"
    }
   ],
   "source": [
    "R_0"
   ]
  },
  {
   "cell_type": "markdown",
   "metadata": {},
   "source": [
    "Basic Reproductive Rate with given parameters is 4.0763"
   ]
  },
  {
   "cell_type": "markdown",
   "metadata": {},
   "source": [
    "With the same parameters, our model looks like this over the first 70 days:\n",
    "<br>\n",
    "Note: this is an estimate for the case where no restrictions were implemented "
   ]
  },
  {
   "cell_type": "code",
   "execution_count": 69,
   "metadata": {},
   "outputs": [],
   "source": [
    "def SEIR(y, t, betaP, betaA, betaS, tauE, tauP, tauI, tauD, f, d, N):\n",
    "    S, E, Ip, Ia, Is, R = y\n",
    "    dydt = [-(S/N)*(betaP*Ip + betaA*Ia + betaS*Is), (S/N)*(betaP*Ip + betaA*Ia + betaS*Is) - (1/tauE)*E, (1/tauE)*E - (1/tauP)*Ip, (f/tauP)*Ip - (1/tauI)*Ia, ((1-f)/tauP)*Ip - ((1-d)/tauI)*Is - (d/tauD)*Is, (1/tauI)*Ia + ((1-d)/tauI)*Is]\n",
    "    return dydt"
   ]
  },
  {
   "cell_type": "code",
   "execution_count": 71,
   "metadata": {},
   "outputs": [],
   "source": [
    "y0 = [4.9*10**6, 1, 0, 0, 0, 0]"
   ]
  },
  {
   "cell_type": "code",
   "execution_count": 72,
   "metadata": {},
   "outputs": [],
   "source": [
    "t = np.linspace(0, 70, 71)"
   ]
  },
  {
   "cell_type": "code",
   "execution_count": 79,
   "metadata": {},
   "outputs": [],
   "source": [
    "sol = odeint(SEIR, y0, t, args = (betaP, betaA, betaS, tauE, tauP, tauI, tauD, f, d, N))"
   ]
  },
  {
   "cell_type": "code",
   "execution_count": 74,
   "metadata": {},
   "outputs": [],
   "source": [
    "S = sol[:,0]\n",
    "E = sol[:,1]\n",
    "Ip = sol[:,2]\n",
    "Ia = sol[:,3]\n",
    "Is = sol[:,4]\n",
    "R = sol[:,5]"
   ]
  },
  {
   "cell_type": "code",
   "execution_count": 77,
   "metadata": {},
   "outputs": [
    {
     "data": {
      "image/png": "[encoded data removed]",
      "text/plain": [
       "<Figure size 432x288 with 1 Axes>"
      ]
     },
     "metadata": {
      "needs_background": "light"
     },
     "output_type": "display_data"
    }
   ],
   "source": [
    "plt.plot(t, S, label = 'Susceptible')\n",
    "plt.plot(t, E, label = 'Exposed')\n",
    "plt.plot(t, Ip, label = 'Pre-symptomatic')\n",
    "plt.plot(t, Ia, label = 'Asymptomatic')\n",
    "plt.plot(t, Is, label = 'Symptomatic')\n",
    "plt.plot(t, R, label = 'Recovered')\n",
    "plt.legend()\n",
    "plt.grid()\n",
    "plt.show()"
   ]
  }
 ],
 "metadata": {
  "kernelspec": {
   "display_name": "Python 3",
   "language": "python",
   "name": "python3"
  },
  "language_info": {
   "codemirror_mode": {
    "name": "ipython",
    "version": 3
   },
   "file_extension": ".py",
   "mimetype": "text/x-python",
   "name": "python",
   "nbconvert_exporter": "python",
   "pygments_lexer": "ipython3",
   "version": "3.8.3"
  }
 },
 "nbformat": 4,
 "nbformat_minor": 4
}
